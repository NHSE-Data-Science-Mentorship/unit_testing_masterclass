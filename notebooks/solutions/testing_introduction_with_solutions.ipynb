{
 "cells": [
  {
   "cell_type": "code",
   "execution_count": 1,
   "metadata": {
    "ExecuteTime": {
     "end_time": "2021-10-19T14:06:22.062695Z",
     "start_time": "2021-10-19T14:06:21.679564Z"
    }
   },
   "outputs": [
    {
     "data": {
      "application/javascript": [
       "\n",
       "            setTimeout(function() {\n",
       "                var nbb_cell_id = 1;\n",
       "                var nbb_unformatted_code = \"%load_ext nb_black\\nimport pandas as pd\\nimport numpy as np\";\n",
       "                var nbb_formatted_code = \"%load_ext nb_black\\nimport pandas as pd\\nimport numpy as np\";\n",
       "                var nbb_cells = Jupyter.notebook.get_cells();\n",
       "                for (var i = 0; i < nbb_cells.length; ++i) {\n",
       "                    if (nbb_cells[i].input_prompt_number == nbb_cell_id) {\n",
       "                        if (nbb_cells[i].get_text() == nbb_unformatted_code) {\n",
       "                             nbb_cells[i].set_text(nbb_formatted_code);\n",
       "                        }\n",
       "                        break;\n",
       "                    }\n",
       "                }\n",
       "            }, 500);\n",
       "            "
      ],
      "text/plain": [
       "<IPython.core.display.Javascript object>"
      ]
     },
     "metadata": {},
     "output_type": "display_data"
    }
   ],
   "source": [
    "%load_ext nb_black\n",
    "import pandas as pd\n",
    "import numpy as np"
   ]
  },
  {
   "cell_type": "markdown",
   "metadata": {},
   "source": [
    "# Testing Why is it useful?\n",
    "\n",
    "1. Checking your own work.\n",
    "2. Maintainability.\n",
    "3. Forces you to write better code.\n",
    "4. Smoother integration.\n",
    "\n",
    "\n",
    "**5. Peace of Mind.**\n"
   ]
  },
  {
   "cell_type": "markdown",
   "metadata": {},
   "source": [
    "## Worked examples + what to do"
   ]
  },
  {
   "cell_type": "markdown",
   "metadata": {
    "heading_collapsed": true
   },
   "source": [
    "### Checking your own work\n",
    "\n",
    "Let's show an example where it's easy to make a mistake. The pattern of mistake is often as follows:\n",
    "\n",
    "* We write some code with the intention that it performs task A\n",
    "* The code **looks** like it works when we apply it to out use case a.\n",
    "* In reality, the code actually performs task B, which is similar to task A on some use cases (like a)\n",
    "\n",
    "\n",
    "Let's write a function which cleans spaces in a string and replaces them with an underscore characters."
   ]
  },
  {
   "cell_type": "code",
   "execution_count": 2,
   "metadata": {
    "ExecuteTime": {
     "end_time": "2021-10-19T14:06:22.077164Z",
     "start_time": "2021-10-19T14:06:22.065287Z"
    },
    "hidden": true
   },
   "outputs": [
    {
     "data": {
      "application/javascript": [
       "\n",
       "            setTimeout(function() {\n",
       "                var nbb_cell_id = 2;\n",
       "                var nbb_unformatted_code = \"def clean_string(s):\\n    # Replace any number of spaces by one underscore\\n    clean = s.replace(\\\"  \\\", \\\" \\\")\\n    clean = clean.replace(\\\" \\\", \\\"_\\\")\\n    return clean\";\n",
       "                var nbb_formatted_code = \"def clean_string(s):\\n    # Replace any number of spaces by one underscore\\n    clean = s.replace(\\\"  \\\", \\\" \\\")\\n    clean = clean.replace(\\\" \\\", \\\"_\\\")\\n    return clean\";\n",
       "                var nbb_cells = Jupyter.notebook.get_cells();\n",
       "                for (var i = 0; i < nbb_cells.length; ++i) {\n",
       "                    if (nbb_cells[i].input_prompt_number == nbb_cell_id) {\n",
       "                        if (nbb_cells[i].get_text() == nbb_unformatted_code) {\n",
       "                             nbb_cells[i].set_text(nbb_formatted_code);\n",
       "                        }\n",
       "                        break;\n",
       "                    }\n",
       "                }\n",
       "            }, 500);\n",
       "            "
      ],
      "text/plain": [
       "<IPython.core.display.Javascript object>"
      ]
     },
     "metadata": {},
     "output_type": "display_data"
    }
   ],
   "source": [
    "def clean_string(s):\n",
    "    # Replace any number of spaces by one underscore\n",
    "    clean = s.replace(\"  \", \" \")\n",
    "    clean = clean.replace(\" \", \"_\")\n",
    "    return clean"
   ]
  },
  {
   "cell_type": "markdown",
   "metadata": {
    "hidden": true
   },
   "source": [
    "This seems to work on a couple of simple examples:"
   ]
  },
  {
   "cell_type": "code",
   "execution_count": 3,
   "metadata": {
    "ExecuteTime": {
     "end_time": "2021-10-19T14:06:22.089911Z",
     "start_time": "2021-10-19T14:06:22.080191Z"
    },
    "hidden": true
   },
   "outputs": [
    {
     "name": "stdout",
     "output_type": "stream",
     "text": [
      "test_case\n",
      "test_case\n"
     ]
    },
    {
     "data": {
      "application/javascript": [
       "\n",
       "            setTimeout(function() {\n",
       "                var nbb_cell_id = 3;\n",
       "                var nbb_unformatted_code = \"print(clean_string(\\\"test case\\\"))\\nprint(clean_string(\\\"test  case\\\"))\\n\\n\\n# The last case doesn't work and you might not catch it until it's too late!\";\n",
       "                var nbb_formatted_code = \"print(clean_string(\\\"test case\\\"))\\nprint(clean_string(\\\"test  case\\\"))\\n\\n\\n# The last case doesn't work and you might not catch it until it's too late!\";\n",
       "                var nbb_cells = Jupyter.notebook.get_cells();\n",
       "                for (var i = 0; i < nbb_cells.length; ++i) {\n",
       "                    if (nbb_cells[i].input_prompt_number == nbb_cell_id) {\n",
       "                        if (nbb_cells[i].get_text() == nbb_unformatted_code) {\n",
       "                             nbb_cells[i].set_text(nbb_formatted_code);\n",
       "                        }\n",
       "                        break;\n",
       "                    }\n",
       "                }\n",
       "            }, 500);\n",
       "            "
      ],
      "text/plain": [
       "<IPython.core.display.Javascript object>"
      ]
     },
     "metadata": {},
     "output_type": "display_data"
    }
   ],
   "source": [
    "print(clean_string(\"test case\"))\n",
    "print(clean_string(\"test  case\"))\n",
    "\n",
    "\n",
    "# The last case doesn't work and you might not catch it until it's too late!"
   ]
  },
  {
   "cell_type": "markdown",
   "metadata": {
    "hidden": true
   },
   "source": [
    "However, it actually doesn't quite do what we want it to do:"
   ]
  },
  {
   "cell_type": "code",
   "execution_count": 4,
   "metadata": {
    "ExecuteTime": {
     "end_time": "2021-10-19T14:06:22.100355Z",
     "start_time": "2021-10-19T14:06:22.092546Z"
    },
    "hidden": true
   },
   "outputs": [
    {
     "name": "stdout",
     "output_type": "stream",
     "text": [
      "test__case\n"
     ]
    },
    {
     "data": {
      "application/javascript": [
       "\n",
       "            setTimeout(function() {\n",
       "                var nbb_cell_id = 4;\n",
       "                var nbb_unformatted_code = \"print(clean_string(\\\"test   case\\\"))\";\n",
       "                var nbb_formatted_code = \"print(clean_string(\\\"test   case\\\"))\";\n",
       "                var nbb_cells = Jupyter.notebook.get_cells();\n",
       "                for (var i = 0; i < nbb_cells.length; ++i) {\n",
       "                    if (nbb_cells[i].input_prompt_number == nbb_cell_id) {\n",
       "                        if (nbb_cells[i].get_text() == nbb_unformatted_code) {\n",
       "                             nbb_cells[i].set_text(nbb_formatted_code);\n",
       "                        }\n",
       "                        break;\n",
       "                    }\n",
       "                }\n",
       "            }, 500);\n",
       "            "
      ],
      "text/plain": [
       "<IPython.core.display.Javascript object>"
      ]
     },
     "metadata": {},
     "output_type": "display_data"
    }
   ],
   "source": [
    "print(clean_string(\"test   case\"))"
   ]
  },
  {
   "cell_type": "markdown",
   "metadata": {
    "ExecuteTime": {
     "end_time": "2021-10-18T11:36:02.312770Z",
     "start_time": "2021-10-18T11:36:02.303349Z"
    },
    "hidden": true
   },
   "source": [
    "We could easily miss this mistake, and it could come back to haunt us, for example if we have a particularly messy dataset, this function would run fine but produce unexpected results that go against our assumptions.\n",
    "\n",
    "So what do we do?\n",
    "\n",
    "We introduce testing. If you're writing code in a notebook, this can be as simple as writing a few assert statements. You can start by following the following steps:\n",
    "\n",
    "* Write your function.\n",
    "* Go for a coffee and forget about how you wrote that function.\n",
    "* Come up with a few test cases, ie. an input and an expected output that you've worked out on your own.\n",
    "* Try to come up with examples as general as possible\n",
    "* Insert assert statements in your code.\n",
    "\n",
    "Let's show this with the correc function"
   ]
  },
  {
   "cell_type": "code",
   "execution_count": 5,
   "metadata": {
    "ExecuteTime": {
     "end_time": "2021-10-19T14:06:22.112448Z",
     "start_time": "2021-10-19T14:06:22.102116Z"
    },
    "hidden": true
   },
   "outputs": [
    {
     "data": {
      "application/javascript": [
       "\n",
       "            setTimeout(function() {\n",
       "                var nbb_cell_id = 5;\n",
       "                var nbb_unformatted_code = \"def clean_string_correct(s):\\n    # We could do this with regex, but here we'll cheat:\\n    return \\\"_\\\".join(s.split())\\n\\nassert clean_string_correct(\\\"test case\\\") == 'test_case'\\nassert clean_string_correct(\\\"test  case\\\") == 'test_case'\\nassert clean_string_correct(\\\"test   case\\\") == 'test_case'\";\n",
       "                var nbb_formatted_code = \"def clean_string_correct(s):\\n    # We could do this with regex, but here we'll cheat:\\n    return \\\"_\\\".join(s.split())\\n\\n\\nassert clean_string_correct(\\\"test case\\\") == \\\"test_case\\\"\\nassert clean_string_correct(\\\"test  case\\\") == \\\"test_case\\\"\\nassert clean_string_correct(\\\"test   case\\\") == \\\"test_case\\\"\";\n",
       "                var nbb_cells = Jupyter.notebook.get_cells();\n",
       "                for (var i = 0; i < nbb_cells.length; ++i) {\n",
       "                    if (nbb_cells[i].input_prompt_number == nbb_cell_id) {\n",
       "                        if (nbb_cells[i].get_text() == nbb_unformatted_code) {\n",
       "                             nbb_cells[i].set_text(nbb_formatted_code);\n",
       "                        }\n",
       "                        break;\n",
       "                    }\n",
       "                }\n",
       "            }, 500);\n",
       "            "
      ],
      "text/plain": [
       "<IPython.core.display.Javascript object>"
      ]
     },
     "metadata": {},
     "output_type": "display_data"
    }
   ],
   "source": [
    "def clean_string_correct(s):\n",
    "    # We could do this with regex, but here we'll cheat:\n",
    "    return \"_\".join(s.split())\n",
    "\n",
    "assert clean_string_correct(\"test case\") == 'test_case'\n",
    "assert clean_string_correct(\"test  case\") == 'test_case'\n",
    "assert clean_string_correct(\"test   case\") == 'test_case'\n"
   ]
  },
  {
   "cell_type": "markdown",
   "metadata": {
    "hidden": true
   },
   "source": [
    "Every time we run our function definition, we have a few nice checks that run as well"
   ]
  },
  {
   "cell_type": "markdown",
   "metadata": {},
   "source": [
    "### Maintainability\n",
    "\n",
    "Let's demonstrate this by defining out own custom train test split function for a dataframe. Let's make a dummy dataframe:"
   ]
  },
  {
   "cell_type": "code",
   "execution_count": 6,
   "metadata": {
    "ExecuteTime": {
     "end_time": "2021-10-19T14:06:22.131833Z",
     "start_time": "2021-10-19T14:06:22.114170Z"
    }
   },
   "outputs": [
    {
     "data": {
      "text/html": [
       "<div>\n",
       "<style scoped>\n",
       "    .dataframe tbody tr th:only-of-type {\n",
       "        vertical-align: middle;\n",
       "    }\n",
       "\n",
       "    .dataframe tbody tr th {\n",
       "        vertical-align: top;\n",
       "    }\n",
       "\n",
       "    .dataframe thead th {\n",
       "        text-align: right;\n",
       "    }\n",
       "</style>\n",
       "<table border=\"1\" class=\"dataframe\">\n",
       "  <thead>\n",
       "    <tr style=\"text-align: right;\">\n",
       "      <th></th>\n",
       "      <th>col_a</th>\n",
       "      <th>col_b</th>\n",
       "    </tr>\n",
       "  </thead>\n",
       "  <tbody>\n",
       "    <tr>\n",
       "      <th>0</th>\n",
       "      <td>44</td>\n",
       "      <td>0.074610</td>\n",
       "    </tr>\n",
       "    <tr>\n",
       "      <th>1</th>\n",
       "      <td>28</td>\n",
       "      <td>0.604181</td>\n",
       "    </tr>\n",
       "    <tr>\n",
       "      <th>2</th>\n",
       "      <td>65</td>\n",
       "      <td>0.508915</td>\n",
       "    </tr>\n",
       "    <tr>\n",
       "      <th>3</th>\n",
       "      <td>67</td>\n",
       "      <td>0.116402</td>\n",
       "    </tr>\n",
       "    <tr>\n",
       "      <th>4</th>\n",
       "      <td>45</td>\n",
       "      <td>0.583659</td>\n",
       "    </tr>\n",
       "  </tbody>\n",
       "</table>\n",
       "</div>"
      ],
      "text/plain": [
       "   col_a     col_b\n",
       "0     44  0.074610\n",
       "1     28  0.604181\n",
       "2     65  0.508915\n",
       "3     67  0.116402\n",
       "4     45  0.583659"
      ]
     },
     "execution_count": 6,
     "metadata": {},
     "output_type": "execute_result"
    },
    {
     "data": {
      "application/javascript": [
       "\n",
       "            setTimeout(function() {\n",
       "                var nbb_cell_id = 6;\n",
       "                var nbb_unformatted_code = \"df = pd.DataFrame(\\n    {\\\"col_a\\\": np.random.randint(1, 100, 100), \\\"col_b\\\": np.random.uniform(0, 1, 100)}\\n)\\ndf.head()\";\n",
       "                var nbb_formatted_code = \"df = pd.DataFrame(\\n    {\\\"col_a\\\": np.random.randint(1, 100, 100), \\\"col_b\\\": np.random.uniform(0, 1, 100)}\\n)\\ndf.head()\";\n",
       "                var nbb_cells = Jupyter.notebook.get_cells();\n",
       "                for (var i = 0; i < nbb_cells.length; ++i) {\n",
       "                    if (nbb_cells[i].input_prompt_number == nbb_cell_id) {\n",
       "                        if (nbb_cells[i].get_text() == nbb_unformatted_code) {\n",
       "                             nbb_cells[i].set_text(nbb_formatted_code);\n",
       "                        }\n",
       "                        break;\n",
       "                    }\n",
       "                }\n",
       "            }, 500);\n",
       "            "
      ],
      "text/plain": [
       "<IPython.core.display.Javascript object>"
      ]
     },
     "metadata": {},
     "output_type": "display_data"
    }
   ],
   "source": [
    "df = pd.DataFrame(\n",
    "    {\"col_a\": np.random.randint(1, 100, 100), \"col_b\": np.random.uniform(0, 1, 100)}\n",
    ")\n",
    "df.head()"
   ]
  },
  {
   "cell_type": "markdown",
   "metadata": {},
   "source": [
    "Next we'll define our function:"
   ]
  },
  {
   "cell_type": "code",
   "execution_count": 7,
   "metadata": {
    "ExecuteTime": {
     "end_time": "2021-10-19T14:06:22.144148Z",
     "start_time": "2021-10-19T14:06:22.133376Z"
    }
   },
   "outputs": [
    {
     "data": {
      "application/javascript": [
       "\n",
       "            setTimeout(function() {\n",
       "                var nbb_cell_id = 7;\n",
       "                var nbb_unformatted_code = \"def train_test_split(df, test_frac):\\n    # Get the number of test rows\\n    n_test = int(len(df) * test_frac)\\n\\n    # Make a shuffled copy of the df\\n    shuffled = df.sample(frac=1.0)\\n\\n    return (shuffled.iloc[-n_test:], shuffled.iloc[:-n_test])\\n\\n\\ntrain_df, test_df = train_test_split(df, 0.2)\";\n",
       "                var nbb_formatted_code = \"def train_test_split(df, test_frac):\\n    # Get the number of test rows\\n    n_test = int(len(df) * test_frac)\\n\\n    # Make a shuffled copy of the df\\n    shuffled = df.sample(frac=1.0)\\n\\n    return (shuffled.iloc[-n_test:], shuffled.iloc[:-n_test])\\n\\n\\ntrain_df, test_df = train_test_split(df, 0.2)\";\n",
       "                var nbb_cells = Jupyter.notebook.get_cells();\n",
       "                for (var i = 0; i < nbb_cells.length; ++i) {\n",
       "                    if (nbb_cells[i].input_prompt_number == nbb_cell_id) {\n",
       "                        if (nbb_cells[i].get_text() == nbb_unformatted_code) {\n",
       "                             nbb_cells[i].set_text(nbb_formatted_code);\n",
       "                        }\n",
       "                        break;\n",
       "                    }\n",
       "                }\n",
       "            }, 500);\n",
       "            "
      ],
      "text/plain": [
       "<IPython.core.display.Javascript object>"
      ]
     },
     "metadata": {},
     "output_type": "display_data"
    }
   ],
   "source": [
    "def train_test_split(df, test_frac):\n",
    "    # Get the number of test rows\n",
    "    n_test = int(len(df) * test_frac)\n",
    "\n",
    "    # Make a shuffled copy of the df\n",
    "    shuffled = df.sample(frac=1.0)\n",
    "\n",
    "    return (shuffled.iloc[-n_test:], shuffled.iloc[:-n_test])\n",
    "\n",
    "\n",
    "train_df, test_df = train_test_split(df, 0.2)"
   ]
  },
  {
   "cell_type": "markdown",
   "metadata": {},
   "source": [
    "Actually,  there's something wrong with our function. Can you see what it is?\n",
    "\n",
    "\n",
    "\n",
    "\n",
    "\n",
    "\n",
    "\n",
    "\n",
    "\n",
    "\n",
    "\n",
    "\n",
    "<br />\n",
    "<br />\n",
    "<br />\n",
    "<br />\n",
    "<br />\n",
    "<br />\n",
    "<br />\n",
    "<br />\n",
    "<br />\n",
    "<br />\n",
    "<br />\n",
    "<br />\n",
    "<br />\n",
    "<br />\n",
    "<br />\n",
    "<br />\n",
    "<br />\n",
    "<br />\n",
    "<br />\n",
    "<br />\n",
    "<br />\n",
    "<br />\n",
    "<br />\n",
    "<br />\n",
    "<br />\n",
    "<br />\n",
    "<br />\n",
    "<br />\n",
    "<br />\n",
    "<br />\n",
    "<br />\n"
   ]
  },
  {
   "cell_type": "markdown",
   "metadata": {},
   "source": [
    "That's right, we actually defined a 'test-train-split function instead of train-test-split' that sort of mistake can be hard to spot and cause lots of issues. "
   ]
  },
  {
   "cell_type": "code",
   "execution_count": 8,
   "metadata": {
    "ExecuteTime": {
     "end_time": "2021-10-19T14:06:22.152987Z",
     "start_time": "2021-10-19T14:06:22.146619Z"
    }
   },
   "outputs": [
    {
     "name": "stdout",
     "output_type": "stream",
     "text": [
      "Train size 20\n",
      "Test size 80\n"
     ]
    },
    {
     "data": {
      "application/javascript": [
       "\n",
       "            setTimeout(function() {\n",
       "                var nbb_cell_id = 8;\n",
       "                var nbb_unformatted_code = \"print(f\\\"Train size {len(train_df)}\\\")\\nprint(f\\\"Test size {len(test_df)}\\\")\";\n",
       "                var nbb_formatted_code = \"print(f\\\"Train size {len(train_df)}\\\")\\nprint(f\\\"Test size {len(test_df)}\\\")\";\n",
       "                var nbb_cells = Jupyter.notebook.get_cells();\n",
       "                for (var i = 0; i < nbb_cells.length; ++i) {\n",
       "                    if (nbb_cells[i].input_prompt_number == nbb_cell_id) {\n",
       "                        if (nbb_cells[i].get_text() == nbb_unformatted_code) {\n",
       "                             nbb_cells[i].set_text(nbb_formatted_code);\n",
       "                        }\n",
       "                        break;\n",
       "                    }\n",
       "                }\n",
       "            }, 500);\n",
       "            "
      ],
      "text/plain": [
       "<IPython.core.display.Javascript object>"
      ]
     },
     "metadata": {},
     "output_type": "display_data"
    }
   ],
   "source": [
    "print(f\"Train size {len(train_df)}\")\n",
    "print(f\"Test size {len(test_df)}\")"
   ]
  },
  {
   "cell_type": "markdown",
   "metadata": {},
   "source": [
    "Let's fix that and add a quick assertion"
   ]
  },
  {
   "cell_type": "code",
   "execution_count": 9,
   "metadata": {
    "ExecuteTime": {
     "end_time": "2021-10-19T14:06:22.175033Z",
     "start_time": "2021-10-19T14:06:22.155119Z"
    }
   },
   "outputs": [
    {
     "data": {
      "application/javascript": [
       "\n",
       "            setTimeout(function() {\n",
       "                var nbb_cell_id = 9;\n",
       "                var nbb_unformatted_code = \"def train_test_split_correct(df, test_frac):\\n    # Get the number of test rows\\n    n_test = int(len(df) * test_frac)\\n\\n    # Make a shuffled copy of the df\\n    shuffled = df.sample(frac=1.0)\\n\\n    # Let's be explicit about which is which to avoid confusion\\n    test = shuffled.iloc[-n_test:]\\n    train = shuffled.iloc[:-n_test]\\n\\n    return train, test\\n\\n\\n# Create some parameters\\nn_dummy = 100\\ndummy_test_frac = 0.2\\n\\n# Create some dummy data\\ndummy_df = pd.DataFrame(\\n    {\\n        \\\"col_a\\\": np.random.randint(1, 100, n_dummy),\\n        \\\"col_b\\\": np.random.uniform(0, 1, n_dummy),\\n    }\\n)\\n\\n# Test the data!\\ndummy_train_df, dummy_test_df = train_test_split_correct(\\n    dummy_df, test_frac=dummy_test_frac\\n)\\nassert len(dummy_train_df) == n_dummy * (1 - dummy_test_frac)\\nassert len(dummy_test_df) == n_dummy * dummy_test_frac\";\n",
       "                var nbb_formatted_code = \"def train_test_split_correct(df, test_frac):\\n    # Get the number of test rows\\n    n_test = int(len(df) * test_frac)\\n\\n    # Make a shuffled copy of the df\\n    shuffled = df.sample(frac=1.0)\\n\\n    # Let's be explicit about which is which to avoid confusion\\n    test = shuffled.iloc[-n_test:]\\n    train = shuffled.iloc[:-n_test]\\n\\n    return train, test\\n\\n\\n# Create some parameters\\nn_dummy = 100\\ndummy_test_frac = 0.2\\n\\n# Create some dummy data\\ndummy_df = pd.DataFrame(\\n    {\\n        \\\"col_a\\\": np.random.randint(1, 100, n_dummy),\\n        \\\"col_b\\\": np.random.uniform(0, 1, n_dummy),\\n    }\\n)\\n\\n# Test the data!\\ndummy_train_df, dummy_test_df = train_test_split_correct(\\n    dummy_df, test_frac=dummy_test_frac\\n)\\nassert len(dummy_train_df) == n_dummy * (1 - dummy_test_frac)\\nassert len(dummy_test_df) == n_dummy * dummy_test_frac\";\n",
       "                var nbb_cells = Jupyter.notebook.get_cells();\n",
       "                for (var i = 0; i < nbb_cells.length; ++i) {\n",
       "                    if (nbb_cells[i].input_prompt_number == nbb_cell_id) {\n",
       "                        if (nbb_cells[i].get_text() == nbb_unformatted_code) {\n",
       "                             nbb_cells[i].set_text(nbb_formatted_code);\n",
       "                        }\n",
       "                        break;\n",
       "                    }\n",
       "                }\n",
       "            }, 500);\n",
       "            "
      ],
      "text/plain": [
       "<IPython.core.display.Javascript object>"
      ]
     },
     "metadata": {},
     "output_type": "display_data"
    }
   ],
   "source": [
    "def train_test_split_correct(df, test_frac):\n",
    "    # Get the number of test rows\n",
    "    n_test = int(len(df) * test_frac)\n",
    "\n",
    "    # Make a shuffled copy of the df\n",
    "    shuffled = df.sample(frac=1.0)\n",
    "\n",
    "    # Let's be explicit about which is which to avoid confusion\n",
    "    test = shuffled.iloc[-n_test:]\n",
    "    train = shuffled.iloc[:-n_test]\n",
    "\n",
    "    return train, test\n",
    "\n",
    "\n",
    "# Create some parameters\n",
    "n_dummy = 100\n",
    "dummy_test_frac = 0.2\n",
    "\n",
    "# Create some dummy data\n",
    "dummy_df = pd.DataFrame(\n",
    "    {\n",
    "        \"col_a\": np.random.randint(1, 100, n_dummy),\n",
    "        \"col_b\": np.random.uniform(0, 1, n_dummy),\n",
    "    }\n",
    ")\n",
    "\n",
    "# Test the data!\n",
    "dummy_train_df, dummy_test_df = train_test_split_correct(\n",
    "    dummy_df, test_frac=dummy_test_frac\n",
    ")\n",
    "assert len(dummy_train_df) == n_dummy * (1 - dummy_test_frac)\n",
    "assert len(dummy_test_df) == n_dummy * dummy_test_frac"
   ]
  },
  {
   "cell_type": "markdown",
   "metadata": {},
   "source": [
    "Great, so that's another example of dangerous bugs sneaking into our code. What about maintainability?\n",
    "\n",
    "Imagine that this function is called by another function, called preprocess:\n",
    "\n"
   ]
  },
  {
   "cell_type": "code",
   "execution_count": 10,
   "metadata": {
    "ExecuteTime": {
     "end_time": "2021-10-19T14:06:22.190923Z",
     "start_time": "2021-10-19T14:06:22.176615Z"
    }
   },
   "outputs": [
    {
     "data": {
      "text/html": [
       "<div>\n",
       "<style scoped>\n",
       "    .dataframe tbody tr th:only-of-type {\n",
       "        vertical-align: middle;\n",
       "    }\n",
       "\n",
       "    .dataframe tbody tr th {\n",
       "        vertical-align: top;\n",
       "    }\n",
       "\n",
       "    .dataframe thead th {\n",
       "        text-align: right;\n",
       "    }\n",
       "</style>\n",
       "<table border=\"1\" class=\"dataframe\">\n",
       "  <thead>\n",
       "    <tr style=\"text-align: right;\">\n",
       "      <th></th>\n",
       "      <th>col_a</th>\n",
       "      <th>col_b</th>\n",
       "    </tr>\n",
       "  </thead>\n",
       "  <tbody>\n",
       "    <tr>\n",
       "      <th>81</th>\n",
       "      <td>19</td>\n",
       "      <td>0.268522</td>\n",
       "    </tr>\n",
       "    <tr>\n",
       "      <th>18</th>\n",
       "      <td>74</td>\n",
       "      <td>0.999803</td>\n",
       "    </tr>\n",
       "    <tr>\n",
       "      <th>16</th>\n",
       "      <td>92</td>\n",
       "      <td>0.764396</td>\n",
       "    </tr>\n",
       "    <tr>\n",
       "      <th>85</th>\n",
       "      <td>43</td>\n",
       "      <td>0.457127</td>\n",
       "    </tr>\n",
       "    <tr>\n",
       "      <th>19</th>\n",
       "      <td>59</td>\n",
       "      <td>0.791084</td>\n",
       "    </tr>\n",
       "  </tbody>\n",
       "</table>\n",
       "</div>"
      ],
      "text/plain": [
       "    col_a     col_b\n",
       "81     19  0.268522\n",
       "18     74  0.999803\n",
       "16     92  0.764396\n",
       "85     43  0.457127\n",
       "19     59  0.791084"
      ]
     },
     "execution_count": 10,
     "metadata": {},
     "output_type": "execute_result"
    },
    {
     "data": {
      "application/javascript": [
       "\n",
       "            setTimeout(function() {\n",
       "                var nbb_cell_id = 10;\n",
       "                var nbb_unformatted_code = \"def preprocess(df):\\n    # Other preprocessing functions here\\n    # ...\\n\\n    train_df, test_df = train_test_split_correct(df, test_frac=0.1)\\n\\n    return train_df, test_df\\n\\n\\ntrain_df, test_df = preprocess(df)\\ntrain_df.head()\";\n",
       "                var nbb_formatted_code = \"def preprocess(df):\\n    # Other preprocessing functions here\\n    # ...\\n\\n    train_df, test_df = train_test_split_correct(df, test_frac=0.1)\\n\\n    return train_df, test_df\\n\\n\\ntrain_df, test_df = preprocess(df)\\ntrain_df.head()\";\n",
       "                var nbb_cells = Jupyter.notebook.get_cells();\n",
       "                for (var i = 0; i < nbb_cells.length; ++i) {\n",
       "                    if (nbb_cells[i].input_prompt_number == nbb_cell_id) {\n",
       "                        if (nbb_cells[i].get_text() == nbb_unformatted_code) {\n",
       "                             nbb_cells[i].set_text(nbb_formatted_code);\n",
       "                        }\n",
       "                        break;\n",
       "                    }\n",
       "                }\n",
       "            }, 500);\n",
       "            "
      ],
      "text/plain": [
       "<IPython.core.display.Javascript object>"
      ]
     },
     "metadata": {},
     "output_type": "display_data"
    }
   ],
   "source": [
    "def preprocess(df):\n",
    "    # Other preprocessing functions here\n",
    "    # ...\n",
    "\n",
    "    train_df, test_df = train_test_split_correct(df, test_frac=0.1)\n",
    "\n",
    "    return train_df, test_df\n",
    "\n",
    "\n",
    "train_df, test_df = preprocess(df)\n",
    "train_df.head()"
   ]
  },
  {
   "cell_type": "markdown",
   "metadata": {},
   "source": [
    "Works great. Now say that you decide that you want to change the way your test train split function works. Maybe you want to also return some summary statistics for convenience. The function gets redefined:"
   ]
  },
  {
   "cell_type": "code",
   "execution_count": 11,
   "metadata": {
    "ExecuteTime": {
     "end_time": "2021-10-19T14:06:22.205945Z",
     "start_time": "2021-10-19T14:06:22.192454Z"
    }
   },
   "outputs": [
    {
     "data": {
      "application/javascript": [
       "\n",
       "            setTimeout(function() {\n",
       "                var nbb_cell_id = 11;\n",
       "                var nbb_unformatted_code = \"def train_test_split_correct(df, test_frac):\\n    # Get the number of test rows\\n    n_test = int(len(df) * test_frac)\\n\\n    # Make a shuffled copy of the df\\n    shuffled = df.sample(frac=1.0)\\n\\n    # Let's be explicit about which is which to avoid confusion\\n    test = shuffled.iloc[-n_test:]\\n    train = shuffled.iloc[:-n_test]\\n\\n    return train, test, train.mean(), test.mean()\\n\\n\\ntrain_df, test_df, train_means, test_means = train_test_split_correct(df, 0.1)\";\n",
       "                var nbb_formatted_code = \"def train_test_split_correct(df, test_frac):\\n    # Get the number of test rows\\n    n_test = int(len(df) * test_frac)\\n\\n    # Make a shuffled copy of the df\\n    shuffled = df.sample(frac=1.0)\\n\\n    # Let's be explicit about which is which to avoid confusion\\n    test = shuffled.iloc[-n_test:]\\n    train = shuffled.iloc[:-n_test]\\n\\n    return train, test, train.mean(), test.mean()\\n\\n\\ntrain_df, test_df, train_means, test_means = train_test_split_correct(df, 0.1)\";\n",
       "                var nbb_cells = Jupyter.notebook.get_cells();\n",
       "                for (var i = 0; i < nbb_cells.length; ++i) {\n",
       "                    if (nbb_cells[i].input_prompt_number == nbb_cell_id) {\n",
       "                        if (nbb_cells[i].get_text() == nbb_unformatted_code) {\n",
       "                             nbb_cells[i].set_text(nbb_formatted_code);\n",
       "                        }\n",
       "                        break;\n",
       "                    }\n",
       "                }\n",
       "            }, 500);\n",
       "            "
      ],
      "text/plain": [
       "<IPython.core.display.Javascript object>"
      ]
     },
     "metadata": {},
     "output_type": "display_data"
    }
   ],
   "source": [
    "def train_test_split_correct(df, test_frac):\n",
    "    # Get the number of test rows\n",
    "    n_test = int(len(df) * test_frac)\n",
    "\n",
    "    # Make a shuffled copy of the df\n",
    "    shuffled = df.sample(frac=1.0)\n",
    "\n",
    "    # Let's be explicit about which is which to avoid confusion\n",
    "    test = shuffled.iloc[-n_test:]\n",
    "    train = shuffled.iloc[:-n_test]\n",
    "\n",
    "    return train, test, train.mean(), test.mean()\n",
    "\n",
    "\n",
    "train_df, test_df, train_means, test_means = train_test_split_correct(df, 0.1)"
   ]
  },
  {
   "cell_type": "markdown",
   "metadata": {},
   "source": [
    "\n",
    "That seems to work! However, we've actually broken preprocess"
   ]
  },
  {
   "cell_type": "code",
   "execution_count": 12,
   "metadata": {
    "ExecuteTime": {
     "end_time": "2021-10-19T14:06:22.312149Z",
     "start_time": "2021-10-19T14:06:22.207393Z"
    }
   },
   "outputs": [
    {
     "ename": "ValueError",
     "evalue": "too many values to unpack (expected 2)",
     "output_type": "error",
     "traceback": [
      "\u001b[0;31m---------------------------------------------------------------------------\u001b[0m",
      "\u001b[0;31mValueError\u001b[0m                                Traceback (most recent call last)",
      "\u001b[0;32m<ipython-input-12-2a2098ccc35a>\u001b[0m in \u001b[0;36m<module>\u001b[0;34m\u001b[0m\n\u001b[0;32m----> 1\u001b[0;31m \u001b[0mtrain_df\u001b[0m\u001b[0;34m,\u001b[0m \u001b[0mtest_df\u001b[0m \u001b[0;34m=\u001b[0m \u001b[0mpreprocess\u001b[0m\u001b[0;34m(\u001b[0m\u001b[0mdf\u001b[0m\u001b[0;34m)\u001b[0m\u001b[0;34m\u001b[0m\u001b[0;34m\u001b[0m\u001b[0m\n\u001b[0m\u001b[1;32m      2\u001b[0m \u001b[0mtrain_df\u001b[0m\u001b[0;34m.\u001b[0m\u001b[0mhead\u001b[0m\u001b[0;34m(\u001b[0m\u001b[0;34m)\u001b[0m\u001b[0;34m\u001b[0m\u001b[0;34m\u001b[0m\u001b[0m\n",
      "\u001b[0;32m<ipython-input-10-df780149df45>\u001b[0m in \u001b[0;36mpreprocess\u001b[0;34m(df)\u001b[0m\n\u001b[1;32m      3\u001b[0m     \u001b[0;31m# ...\u001b[0m\u001b[0;34m\u001b[0m\u001b[0;34m\u001b[0m\u001b[0;34m\u001b[0m\u001b[0m\n\u001b[1;32m      4\u001b[0m \u001b[0;34m\u001b[0m\u001b[0m\n\u001b[0;32m----> 5\u001b[0;31m     \u001b[0mtrain_df\u001b[0m\u001b[0;34m,\u001b[0m \u001b[0mtest_df\u001b[0m \u001b[0;34m=\u001b[0m \u001b[0mtrain_test_split_correct\u001b[0m\u001b[0;34m(\u001b[0m\u001b[0mdf\u001b[0m\u001b[0;34m,\u001b[0m \u001b[0mtest_frac\u001b[0m\u001b[0;34m=\u001b[0m\u001b[0;36m0.1\u001b[0m\u001b[0;34m)\u001b[0m\u001b[0;34m\u001b[0m\u001b[0;34m\u001b[0m\u001b[0m\n\u001b[0m\u001b[1;32m      6\u001b[0m \u001b[0;34m\u001b[0m\u001b[0m\n\u001b[1;32m      7\u001b[0m     \u001b[0;32mreturn\u001b[0m \u001b[0mtrain_df\u001b[0m\u001b[0;34m,\u001b[0m \u001b[0mtest_df\u001b[0m\u001b[0;34m\u001b[0m\u001b[0;34m\u001b[0m\u001b[0m\n",
      "\u001b[0;31mValueError\u001b[0m: too many values to unpack (expected 2)"
     ]
    },
    {
     "data": {
      "application/javascript": [
       "\n",
       "            setTimeout(function() {\n",
       "                var nbb_cell_id = 12;\n",
       "                var nbb_unformatted_code = \"train_df, test_df = preprocess(df)\\ntrain_df.head()\";\n",
       "                var nbb_formatted_code = \"train_df, test_df = preprocess(df)\\ntrain_df.head()\";\n",
       "                var nbb_cells = Jupyter.notebook.get_cells();\n",
       "                for (var i = 0; i < nbb_cells.length; ++i) {\n",
       "                    if (nbb_cells[i].input_prompt_number == nbb_cell_id) {\n",
       "                        if (nbb_cells[i].get_text() == nbb_unformatted_code) {\n",
       "                             nbb_cells[i].set_text(nbb_formatted_code);\n",
       "                        }\n",
       "                        break;\n",
       "                    }\n",
       "                }\n",
       "            }, 500);\n",
       "            "
      ],
      "text/plain": [
       "<IPython.core.display.Javascript object>"
      ]
     },
     "metadata": {},
     "output_type": "display_data"
    }
   ],
   "source": [
    "train_df, test_df = preprocess(df)\n",
    "train_df.head()"
   ]
  },
  {
   "cell_type": "markdown",
   "metadata": {},
   "source": [
    "In this case, the error is obvious and the code breaks. Having a test for preprocess would remind us that we need to update that function as well.\n",
    "\n",
    "What's more, there will be cases where the preprocess function **doesn't break** but starts behaving differently due to the change in test train split. These will be very easy to miss and very hard to track down.\n",
    "\n",
    "Testing functions like preprocess with known data will ensure that when you expand or modify your codebase, you miss fewer sneaky bugs. This is crucial in larger projects where everything mysteriously breaks as soon as one small change happens.\n",
    "\n",
    "\n",
    "\n",
    "safely.\n",
    "\n",
    "But a different change could easily have "
   ]
  },
  {
   "cell_type": "markdown",
   "metadata": {},
   "source": [
    "### Better, more modular code and smoother integration\n",
    "\n",
    "Let's say I need to process my data by applying a few transforms. \n",
    "We have data with values and groups:"
   ]
  },
  {
   "cell_type": "code",
   "execution_count": 39,
   "metadata": {
    "ExecuteTime": {
     "end_time": "2021-10-21T16:28:01.857270Z",
     "start_time": "2021-10-21T16:28:01.840327Z"
    }
   },
   "outputs": [
    {
     "data": {
      "text/html": [
       "<div>\n",
       "<style scoped>\n",
       "    .dataframe tbody tr th:only-of-type {\n",
       "        vertical-align: middle;\n",
       "    }\n",
       "\n",
       "    .dataframe tbody tr th {\n",
       "        vertical-align: top;\n",
       "    }\n",
       "\n",
       "    .dataframe thead th {\n",
       "        text-align: right;\n",
       "    }\n",
       "</style>\n",
       "<table border=\"1\" class=\"dataframe\">\n",
       "  <thead>\n",
       "    <tr style=\"text-align: right;\">\n",
       "      <th></th>\n",
       "      <th>group</th>\n",
       "      <th>value</th>\n",
       "    </tr>\n",
       "  </thead>\n",
       "  <tbody>\n",
       "    <tr>\n",
       "      <th>0</th>\n",
       "      <td>A</td>\n",
       "      <td>4</td>\n",
       "    </tr>\n",
       "    <tr>\n",
       "      <th>1</th>\n",
       "      <td>A</td>\n",
       "      <td>4</td>\n",
       "    </tr>\n",
       "    <tr>\n",
       "      <th>2</th>\n",
       "      <td>A</td>\n",
       "      <td>1</td>\n",
       "    </tr>\n",
       "    <tr>\n",
       "      <th>3</th>\n",
       "      <td>B</td>\n",
       "      <td>0</td>\n",
       "    </tr>\n",
       "    <tr>\n",
       "      <th>4</th>\n",
       "      <td>B</td>\n",
       "      <td>3</td>\n",
       "    </tr>\n",
       "    <tr>\n",
       "      <th>5</th>\n",
       "      <td>B</td>\n",
       "      <td>3</td>\n",
       "    </tr>\n",
       "  </tbody>\n",
       "</table>\n",
       "</div>"
      ],
      "text/plain": [
       "  group  value\n",
       "0     A      4\n",
       "1     A      4\n",
       "2     A      1\n",
       "3     B      0\n",
       "4     B      3\n",
       "5     B      3"
      ]
     },
     "execution_count": 39,
     "metadata": {},
     "output_type": "execute_result"
    },
    {
     "data": {
      "application/javascript": [
       "\n",
       "            setTimeout(function() {\n",
       "                var nbb_cell_id = 39;\n",
       "                var nbb_unformatted_code = \"df = pd.DataFrame(\\n    {\\\"group\\\": [\\\"A\\\", \\\"A\\\", \\\"A\\\", \\\"B\\\", \\\"B\\\", \\\"B\\\"], \\\"value\\\": [4, 4, 1, 0, 3, 3]}\\n)\\ndf\";\n",
       "                var nbb_formatted_code = \"df = pd.DataFrame(\\n    {\\\"group\\\": [\\\"A\\\", \\\"A\\\", \\\"A\\\", \\\"B\\\", \\\"B\\\", \\\"B\\\"], \\\"value\\\": [4, 4, 1, 0, 3, 3]}\\n)\\ndf\";\n",
       "                var nbb_cells = Jupyter.notebook.get_cells();\n",
       "                for (var i = 0; i < nbb_cells.length; ++i) {\n",
       "                    if (nbb_cells[i].input_prompt_number == nbb_cell_id) {\n",
       "                        if (nbb_cells[i].get_text() == nbb_unformatted_code) {\n",
       "                             nbb_cells[i].set_text(nbb_formatted_code);\n",
       "                        }\n",
       "                        break;\n",
       "                    }\n",
       "                }\n",
       "            }, 500);\n",
       "            "
      ],
      "text/plain": [
       "<IPython.core.display.Javascript object>"
      ]
     },
     "metadata": {},
     "output_type": "display_data"
    }
   ],
   "source": [
    "df = pd.DataFrame(\n",
    "    {\"group\": [\"A\", \"A\", \"A\", \"B\", \"B\", \"B\"], \"value\": [4, 4, 1, 0, 3, 3]}\n",
    ")\n",
    "df"
   ]
  },
  {
   "cell_type": "markdown",
   "metadata": {},
   "source": [
    "Let's say that we want to normalise our data. \n",
    "\n",
    "For each row, we'd like to normalise value by adding its group mean and subtracting its group median.\n",
    "\n",
    "We've learned the lesson of testing so we'll check that the preprocessing function works on this dataset.\n",
    "\n",
    "We do the maths and figure out the answer manually:"
   ]
  },
  {
   "cell_type": "code",
   "execution_count": null,
   "metadata": {
    "ExecuteTime": {
     "start_time": "2021-10-21T16:28:01.515Z"
    }
   },
   "outputs": [],
   "source": [
    "EXPECTED_NORMALISED_VALUE = [3, 3, 0, -1, 2, 2]"
   ]
  },
  {
   "cell_type": "markdown",
   "metadata": {},
   "source": [
    "we define our function that will perform all of this and chek it works:"
   ]
  },
  {
   "cell_type": "code",
   "execution_count": 15,
   "metadata": {
    "ExecuteTime": {
     "end_time": "2021-10-19T14:08:54.892026Z",
     "start_time": "2021-10-19T14:08:54.852796Z"
    }
   },
   "outputs": [
    {
     "data": {
      "application/javascript": [
       "\n",
       "            setTimeout(function() {\n",
       "                var nbb_cell_id = 15;\n",
       "                var nbb_unformatted_code = \"def messy_preprocess(df):\\n\\n    # Find the overall mean\\n\\n    mean = df[\\\"value\\\"].mean()\\n    # Let's iterate through df group by group. Start by sorting the dataframe.\\n    df = df.sort_values(\\\"group\\\")\\n\\n    # Define the starting group\\n    current_group = df.iloc[0][\\\"group\\\"]\\n\\n    rows = []\\n    # Start looping through the dataframe row by row and performing the change\\n    for _, row in df.iterrows():\\n\\n        # Get the mean for the current group\\n        group_mean = df.loc[df[\\\"group\\\"] == current_group, \\\"value\\\"].mean()\\n\\n        # Get the median for the current group\\n        group_median = df.loc[df[\\\"group\\\"] == current_group, \\\"value\\\"].median()\\n\\n        row[\\\"value_normalised\\\"] = row[\\\"value\\\"] + group_mean - group_median\\n\\n        #         # Calculate the normalised value\\n        #         row[\\\"norm_value\\\"] = (row[\\\"value\\\"] - group_mean) / mean\\n\\n        # Accumulate the rows\\n        rows.append(row)\\n\\n    return pd.DataFrame(rows)\\n\\n\\nnp.testing.assert_array_equal(\\n    messy_preprocess(df)[\\\"value_normalised\\\"], EXPECTED_NORMALISED_VALUE\\n)\";\n",
       "                var nbb_formatted_code = \"def messy_preprocess(df):\\n\\n    # Find the overall mean\\n\\n    mean = df[\\\"value\\\"].mean()\\n    # Let's iterate through df group by group. Start by sorting the dataframe.\\n    df = df.sort_values(\\\"group\\\")\\n\\n    # Define the starting group\\n    current_group = df.iloc[0][\\\"group\\\"]\\n\\n    rows = []\\n    # Start looping through the dataframe row by row and performing the change\\n    for _, row in df.iterrows():\\n\\n        # Get the mean for the current group\\n        group_mean = df.loc[df[\\\"group\\\"] == current_group, \\\"value\\\"].mean()\\n\\n        # Get the median for the current group\\n        group_median = df.loc[df[\\\"group\\\"] == current_group, \\\"value\\\"].median()\\n\\n        row[\\\"value_normalised\\\"] = row[\\\"value\\\"] + group_mean - group_median\\n\\n        #         # Calculate the normalised value\\n        #         row[\\\"norm_value\\\"] = (row[\\\"value\\\"] - group_mean) / mean\\n\\n        # Accumulate the rows\\n        rows.append(row)\\n\\n    return pd.DataFrame(rows)\\n\\n\\nnp.testing.assert_array_equal(\\n    messy_preprocess(df)[\\\"value_normalised\\\"], EXPECTED_NORMALISED_VALUE\\n)\";\n",
       "                var nbb_cells = Jupyter.notebook.get_cells();\n",
       "                for (var i = 0; i < nbb_cells.length; ++i) {\n",
       "                    if (nbb_cells[i].input_prompt_number == nbb_cell_id) {\n",
       "                        if (nbb_cells[i].get_text() == nbb_unformatted_code) {\n",
       "                             nbb_cells[i].set_text(nbb_formatted_code);\n",
       "                        }\n",
       "                        break;\n",
       "                    }\n",
       "                }\n",
       "            }, 500);\n",
       "            "
      ],
      "text/plain": [
       "<IPython.core.display.Javascript object>"
      ]
     },
     "metadata": {},
     "output_type": "display_data"
    }
   ],
   "source": [
    "def messy_preprocess(df):\n",
    "\n",
    "    # Find the overall mean\n",
    "\n",
    "    mean = df[\"value\"].mean()\n",
    "    # Let's iterate through df group by group. Start by sorting the dataframe.\n",
    "    df = df.sort_values(\"group\")\n",
    "\n",
    "    # Define the starting group\n",
    "    current_group = df.iloc[0][\"group\"]\n",
    "\n",
    "    rows = []\n",
    "    # Start looping through the dataframe row by row and performing the change\n",
    "    for _, row in df.iterrows():\n",
    "\n",
    "        # Get the mean for the current group\n",
    "        group_mean = df.loc[df[\"group\"] == current_group, \"value\"].mean()\n",
    "\n",
    "        # Get the median for the current group\n",
    "        group_median = df.loc[df[\"group\"] == current_group, \"value\"].median()\n",
    "\n",
    "        row[\"value_normalised\"] = row[\"value\"] + group_mean - group_median\n",
    "\n",
    "        #         # Calculate the normalised value\n",
    "        #         row[\"norm_value\"] = (row[\"value\"] - group_mean) / mean\n",
    "\n",
    "        # Accumulate the rows\n",
    "        rows.append(row)\n",
    "\n",
    "    return pd.DataFrame(rows)\n",
    "\n",
    "\n",
    "np.testing.assert_array_equal(\n",
    "    messy_preprocess(df)[\"value_normalised\"], EXPECTED_NORMALISED_VALUE\n",
    ")"
   ]
  },
  {
   "cell_type": "markdown",
   "metadata": {},
   "source": [
    "It works! Note the use of `np.testing`: this provides a bunch of useful functions for testing arrays.\n",
    "\n",
    "Problem #1: coming up with the answers was a little tedious. If I was the person reviewing this code, I would struggle to quickly assess whether that data is correct or not.\n",
    "\n",
    "Problem #2: This actually has a really nasty bug. If we had slightly different data this doesn't work:\n"
   ]
  },
  {
   "cell_type": "code",
   "execution_count": 16,
   "metadata": {
    "ExecuteTime": {
     "end_time": "2021-10-19T14:08:57.730134Z",
     "start_time": "2021-10-19T14:08:57.694943Z"
    }
   },
   "outputs": [
    {
     "ename": "AssertionError",
     "evalue": "\nArrays are not equal\n\nMismatched elements: 3 / 6 (50%)\nMax absolute difference: 6.\nMax relative difference: 1.2\n x: array([ 3.,  3.,  0., -1., -1., 14.])\n y: array([ 3,  3,  0,  5,  5, 20])",
     "output_type": "error",
     "traceback": [
      "\u001b[0;31m---------------------------------------------------------------------------\u001b[0m",
      "\u001b[0;31mAssertionError\u001b[0m                            Traceback (most recent call last)",
      "\u001b[0;32m<ipython-input-16-70311ab96591>\u001b[0m in \u001b[0;36m<module>\u001b[0;34m\u001b[0m\n\u001b[1;32m      4\u001b[0m \u001b[0mEXPECTED_NORMALISED_VALUE_2\u001b[0m \u001b[0;34m=\u001b[0m \u001b[0;34m[\u001b[0m\u001b[0;36m3\u001b[0m\u001b[0;34m,\u001b[0m \u001b[0;36m3\u001b[0m\u001b[0;34m,\u001b[0m \u001b[0;36m0\u001b[0m\u001b[0;34m,\u001b[0m \u001b[0;36m5\u001b[0m\u001b[0;34m,\u001b[0m \u001b[0;36m5\u001b[0m\u001b[0;34m,\u001b[0m \u001b[0;36m20\u001b[0m\u001b[0;34m]\u001b[0m\u001b[0;34m\u001b[0m\u001b[0;34m\u001b[0m\u001b[0m\n\u001b[1;32m      5\u001b[0m \u001b[0;34m\u001b[0m\u001b[0m\n\u001b[0;32m----> 6\u001b[0;31m np.testing.assert_array_equal(\n\u001b[0m\u001b[1;32m      7\u001b[0m     \u001b[0mmessy_preprocess\u001b[0m\u001b[0;34m(\u001b[0m\u001b[0mdf_2\u001b[0m\u001b[0;34m)\u001b[0m\u001b[0;34m[\u001b[0m\u001b[0;34m\"value_normalised\"\u001b[0m\u001b[0;34m]\u001b[0m\u001b[0;34m,\u001b[0m \u001b[0mEXPECTED_NORMALISED_VALUE_2\u001b[0m\u001b[0;34m\u001b[0m\u001b[0;34m\u001b[0m\u001b[0m\n\u001b[1;32m      8\u001b[0m )\n",
      "    \u001b[0;31m[... skipping hidden 1 frame]\u001b[0m\n",
      "\u001b[0;32m/opt/anaconda/envs/Python3/lib/python3.8/site-packages/numpy/testing/_private/utils.py\u001b[0m in \u001b[0;36massert_array_compare\u001b[0;34m(comparison, x, y, err_msg, verbose, header, precision, equal_nan, equal_inf)\u001b[0m\n\u001b[1;32m    844\u001b[0m                                 \u001b[0mverbose\u001b[0m\u001b[0;34m=\u001b[0m\u001b[0mverbose\u001b[0m\u001b[0;34m,\u001b[0m \u001b[0mheader\u001b[0m\u001b[0;34m=\u001b[0m\u001b[0mheader\u001b[0m\u001b[0;34m,\u001b[0m\u001b[0;34m\u001b[0m\u001b[0;34m\u001b[0m\u001b[0m\n\u001b[1;32m    845\u001b[0m                                 names=('x', 'y'), precision=precision)\n\u001b[0;32m--> 846\u001b[0;31m             \u001b[0;32mraise\u001b[0m \u001b[0mAssertionError\u001b[0m\u001b[0;34m(\u001b[0m\u001b[0mmsg\u001b[0m\u001b[0;34m)\u001b[0m\u001b[0;34m\u001b[0m\u001b[0;34m\u001b[0m\u001b[0m\n\u001b[0m\u001b[1;32m    847\u001b[0m     \u001b[0;32mexcept\u001b[0m \u001b[0mValueError\u001b[0m\u001b[0;34m:\u001b[0m\u001b[0;34m\u001b[0m\u001b[0;34m\u001b[0m\u001b[0m\n\u001b[1;32m    848\u001b[0m         \u001b[0;32mimport\u001b[0m \u001b[0mtraceback\u001b[0m\u001b[0;34m\u001b[0m\u001b[0;34m\u001b[0m\u001b[0m\n",
      "\u001b[0;31mAssertionError\u001b[0m: \nArrays are not equal\n\nMismatched elements: 3 / 6 (50%)\nMax absolute difference: 6.\nMax relative difference: 1.2\n x: array([ 3.,  3.,  0., -1., -1., 14.])\n y: array([ 3,  3,  0,  5,  5, 20])"
     ]
    },
    {
     "data": {
      "application/javascript": [
       "\n",
       "            setTimeout(function() {\n",
       "                var nbb_cell_id = 16;\n",
       "                var nbb_unformatted_code = \"df_2 = pd.DataFrame(\\n    {\\\"group\\\": [\\\"A\\\", \\\"A\\\", \\\"A\\\", \\\"B\\\", \\\"B\\\", \\\"B\\\"], \\\"value\\\": [4, 4, 1, 0, 0, 15]}\\n)\\nEXPECTED_NORMALISED_VALUE_2 = [3, 3, 0, 5, 5, 20]\\n\\nnp.testing.assert_array_equal(\\n    messy_preprocess(df_2)[\\\"value_normalised\\\"], EXPECTED_NORMALISED_VALUE_2\\n)\";\n",
       "                var nbb_formatted_code = \"df_2 = pd.DataFrame(\\n    {\\\"group\\\": [\\\"A\\\", \\\"A\\\", \\\"A\\\", \\\"B\\\", \\\"B\\\", \\\"B\\\"], \\\"value\\\": [4, 4, 1, 0, 0, 15]}\\n)\\nEXPECTED_NORMALISED_VALUE_2 = [3, 3, 0, 5, 5, 20]\\n\\nnp.testing.assert_array_equal(\\n    messy_preprocess(df_2)[\\\"value_normalised\\\"], EXPECTED_NORMALISED_VALUE_2\\n)\";\n",
       "                var nbb_cells = Jupyter.notebook.get_cells();\n",
       "                for (var i = 0; i < nbb_cells.length; ++i) {\n",
       "                    if (nbb_cells[i].input_prompt_number == nbb_cell_id) {\n",
       "                        if (nbb_cells[i].get_text() == nbb_unformatted_code) {\n",
       "                             nbb_cells[i].set_text(nbb_formatted_code);\n",
       "                        }\n",
       "                        break;\n",
       "                    }\n",
       "                }\n",
       "            }, 500);\n",
       "            "
      ],
      "text/plain": [
       "<IPython.core.display.Javascript object>"
      ]
     },
     "metadata": {},
     "output_type": "display_data"
    }
   ],
   "source": [
    "df_2 = pd.DataFrame(\n",
    "    {\"group\": [\"A\", \"A\", \"A\", \"B\", \"B\", \"B\"], \"value\": [4, 4, 1, 0, 0, 15]}\n",
    ")\n",
    "EXPECTED_NORMALISED_VALUE_2 = [3, 3, 0, 5, 5, 20]\n",
    "\n",
    "np.testing.assert_array_equal(\n",
    "    messy_preprocess(df_2)[\"value_normalised\"], EXPECTED_NORMALISED_VALUE_2\n",
    ")\n",
    "\n"
   ]
  },
  {
   "cell_type": "markdown",
   "metadata": {},
   "source": [
    "So what lessons can we draw from this?\n",
    "\n",
    "A really unfortuntate bug has slid into our code. What's really going on is that the code we wrote isn't very high quality. Even if it did not have a bug, it would be hard to maintain and understand. Part of the porblem is also that this one function does several things at once.\n",
    "\n",
    "We need to simplify and streamline. Testing encourages to break this code up into smaller, more manageable, and easier to test chunks. Let's do this.\n"
   ]
  },
  {
   "cell_type": "markdown",
   "metadata": {
    "ExecuteTime": {
     "end_time": "2021-10-19T12:40:11.763563Z",
     "start_time": "2021-10-19T12:40:11.755832Z"
    }
   },
   "source": [
    "<span style=\"font-size:larger;\">**Exercise:**</span>\n",
    "\n",
    "1. Write one or more functions to perform the above task\n",
    "2. Write some checks that you are getting the expected data.\n",
    "3. Be as thorough as you can!"
   ]
  },
  {
   "cell_type": "markdown",
   "metadata": {
    "ExecuteTime": {
     "end_time": "2021-10-19T12:43:50.254702Z",
     "start_time": "2021-10-19T12:43:50.243617Z"
    }
   },
   "source": [
    "<span style=\"font-size:larger;\">**Solution:**</span>\n"
   ]
  },
  {
   "cell_type": "code",
   "execution_count": 37,
   "metadata": {
    "ExecuteTime": {
     "end_time": "2021-10-21T16:27:50.116286Z",
     "start_time": "2021-10-21T16:27:50.082009Z"
    }
   },
   "outputs": [
    {
     "data": {
      "application/javascript": [
       "\n",
       "            setTimeout(function() {\n",
       "                var nbb_cell_id = 37;\n",
       "                var nbb_unformatted_code = \"def add_group_mean(df):\\n    group_means = (\\n        df.groupby(\\\"group\\\")[[\\\"value\\\"]].mean().rename(columns={\\\"value\\\": \\\"group_mean\\\"})\\n    )\\n    return df.merge(group_means, on=\\\"group\\\")\\n\\n\\ndef add_group_median(df):\\n    group_medians = (\\n        df.groupby(\\\"group\\\")[[\\\"value\\\"]]\\n        .median()\\n        .rename(columns={\\\"value\\\": \\\"group_median\\\"})\\n    )\\n    return df.merge(group_medians, on=\\\"group\\\")\\n\\n\\ndef preprocess(df):\\n\\n    df = add_group_mean(df)\\n    df = add_group_median(df)\\n    df[\\\"value_normalised\\\"] = df[\\\"value\\\"] + df[\\\"group_mean\\\"] - df[\\\"group_median\\\"]\\n    return df.drop(columns=[\\\"group_median\\\", \\\"group_mean\\\"])\";\n",
       "                var nbb_formatted_code = \"def add_group_mean(df):\\n    group_means = (\\n        df.groupby(\\\"group\\\")[[\\\"value\\\"]].mean().rename(columns={\\\"value\\\": \\\"group_mean\\\"})\\n    )\\n    return df.merge(group_means, on=\\\"group\\\")\\n\\n\\ndef add_group_median(df):\\n    group_medians = (\\n        df.groupby(\\\"group\\\")[[\\\"value\\\"]]\\n        .median()\\n        .rename(columns={\\\"value\\\": \\\"group_median\\\"})\\n    )\\n    return df.merge(group_medians, on=\\\"group\\\")\\n\\n\\ndef preprocess(df):\\n\\n    df = add_group_mean(df)\\n    df = add_group_median(df)\\n    df[\\\"value_normalised\\\"] = df[\\\"value\\\"] + df[\\\"group_mean\\\"] - df[\\\"group_median\\\"]\\n    return df.drop(columns=[\\\"group_median\\\", \\\"group_mean\\\"])\";\n",
       "                var nbb_cells = Jupyter.notebook.get_cells();\n",
       "                for (var i = 0; i < nbb_cells.length; ++i) {\n",
       "                    if (nbb_cells[i].input_prompt_number == nbb_cell_id) {\n",
       "                        if (nbb_cells[i].get_text() == nbb_unformatted_code) {\n",
       "                             nbb_cells[i].set_text(nbb_formatted_code);\n",
       "                        }\n",
       "                        break;\n",
       "                    }\n",
       "                }\n",
       "            }, 500);\n",
       "            "
      ],
      "text/plain": [
       "<IPython.core.display.Javascript object>"
      ]
     },
     "metadata": {},
     "output_type": "display_data"
    }
   ],
   "source": [
    "def add_group_mean(df):\n",
    "    group_means = (\n",
    "        df.groupby(\"group\")[[\"value\"]].mean().rename(columns={\"value\": \"group_mean\"})\n",
    "    )\n",
    "    return df.merge(group_means, on=\"group\")\n",
    "\n",
    "\n",
    "def add_group_median(df):\n",
    "    group_medians = (\n",
    "        df.groupby(\"group\")[[\"value\"]]\n",
    "        .median()\n",
    "        .rename(columns={\"value\": \"group_median\"})\n",
    "    )\n",
    "    return df.merge(group_medians, on=\"group\")\n",
    "\n",
    "\n",
    "def preprocess(df):\n",
    "\n",
    "    df = add_group_mean(df)\n",
    "    df = add_group_median(df)\n",
    "    df[\"value_normalised\"] = df[\"value\"] + df[\"group_mean\"] - df[\"group_median\"]\n",
    "    return df.drop(columns=[\"group_median\", \"group_mean\"])\n",
    "\n"
   ]
  },
  {
   "cell_type": "code",
   "execution_count": 38,
   "metadata": {
    "ExecuteTime": {
     "end_time": "2021-10-21T16:27:55.220128Z",
     "start_time": "2021-10-21T16:27:55.185765Z"
    }
   },
   "outputs": [
    {
     "ename": "KeyError",
     "evalue": "'group'",
     "output_type": "error",
     "traceback": [
      "\u001b[0;31m---------------------------------------------------------------------------\u001b[0m",
      "\u001b[0;31mKeyError\u001b[0m                                  Traceback (most recent call last)",
      "\u001b[0;32m<ipython-input-38-2b8868dcad77>\u001b[0m in \u001b[0;36m<module>\u001b[0;34m\u001b[0m\n\u001b[1;32m      4\u001b[0m \u001b[0mEXPECTED_MEANS_2\u001b[0m \u001b[0;34m=\u001b[0m \u001b[0;34m[\u001b[0m\u001b[0;36m4\u001b[0m\u001b[0;34m,\u001b[0m \u001b[0;36m4\u001b[0m\u001b[0;34m,\u001b[0m \u001b[0;36m4\u001b[0m\u001b[0;34m,\u001b[0m \u001b[0;36m5\u001b[0m\u001b[0;34m,\u001b[0m \u001b[0;36m5\u001b[0m\u001b[0;34m,\u001b[0m \u001b[0;36m5\u001b[0m\u001b[0;34m]\u001b[0m\u001b[0;34m\u001b[0m\u001b[0;34m\u001b[0m\u001b[0m\n\u001b[1;32m      5\u001b[0m \u001b[0;34m\u001b[0m\u001b[0m\n\u001b[0;32m----> 6\u001b[0;31m \u001b[0mnp\u001b[0m\u001b[0;34m.\u001b[0m\u001b[0mtesting\u001b[0m\u001b[0;34m.\u001b[0m\u001b[0massert_array_equal\u001b[0m\u001b[0;34m(\u001b[0m\u001b[0madd_group_mean\u001b[0m\u001b[0;34m(\u001b[0m\u001b[0mdf\u001b[0m\u001b[0;34m)\u001b[0m\u001b[0;34m[\u001b[0m\u001b[0;34m\"group_mean\"\u001b[0m\u001b[0;34m]\u001b[0m\u001b[0;34m,\u001b[0m \u001b[0mEXPECTED_MEANS\u001b[0m\u001b[0;34m)\u001b[0m\u001b[0;34m\u001b[0m\u001b[0;34m\u001b[0m\u001b[0m\n\u001b[0m\u001b[1;32m      7\u001b[0m \u001b[0mnp\u001b[0m\u001b[0;34m.\u001b[0m\u001b[0mtesting\u001b[0m\u001b[0;34m.\u001b[0m\u001b[0massert_array_equal\u001b[0m\u001b[0;34m(\u001b[0m\u001b[0madd_group_mean\u001b[0m\u001b[0;34m(\u001b[0m\u001b[0mdf_2\u001b[0m\u001b[0;34m)\u001b[0m\u001b[0;34m[\u001b[0m\u001b[0;34m\"group_mean\"\u001b[0m\u001b[0;34m]\u001b[0m\u001b[0;34m,\u001b[0m \u001b[0mEXPECTED_MEANS_2\u001b[0m\u001b[0;34m)\u001b[0m\u001b[0;34m\u001b[0m\u001b[0;34m\u001b[0m\u001b[0m\n\u001b[1;32m      8\u001b[0m \u001b[0;34m\u001b[0m\u001b[0m\n",
      "\u001b[0;32m<ipython-input-37-0d4e3456627f>\u001b[0m in \u001b[0;36madd_group_mean\u001b[0;34m(df)\u001b[0m\n\u001b[1;32m      1\u001b[0m \u001b[0;32mdef\u001b[0m \u001b[0madd_group_mean\u001b[0m\u001b[0;34m(\u001b[0m\u001b[0mdf\u001b[0m\u001b[0;34m)\u001b[0m\u001b[0;34m:\u001b[0m\u001b[0;34m\u001b[0m\u001b[0;34m\u001b[0m\u001b[0m\n\u001b[1;32m      2\u001b[0m     group_means = (\n\u001b[0;32m----> 3\u001b[0;31m         \u001b[0mdf\u001b[0m\u001b[0;34m.\u001b[0m\u001b[0mgroupby\u001b[0m\u001b[0;34m(\u001b[0m\u001b[0;34m\"group\"\u001b[0m\u001b[0;34m)\u001b[0m\u001b[0;34m[\u001b[0m\u001b[0;34m[\u001b[0m\u001b[0;34m\"value\"\u001b[0m\u001b[0;34m]\u001b[0m\u001b[0;34m]\u001b[0m\u001b[0;34m.\u001b[0m\u001b[0mmean\u001b[0m\u001b[0;34m(\u001b[0m\u001b[0;34m)\u001b[0m\u001b[0;34m.\u001b[0m\u001b[0mrename\u001b[0m\u001b[0;34m(\u001b[0m\u001b[0mcolumns\u001b[0m\u001b[0;34m=\u001b[0m\u001b[0;34m{\u001b[0m\u001b[0;34m\"value\"\u001b[0m\u001b[0;34m:\u001b[0m \u001b[0;34m\"group_mean\"\u001b[0m\u001b[0;34m}\u001b[0m\u001b[0;34m)\u001b[0m\u001b[0;34m\u001b[0m\u001b[0;34m\u001b[0m\u001b[0m\n\u001b[0m\u001b[1;32m      4\u001b[0m     )\n\u001b[1;32m      5\u001b[0m     \u001b[0;32mreturn\u001b[0m \u001b[0mdf\u001b[0m\u001b[0;34m.\u001b[0m\u001b[0mmerge\u001b[0m\u001b[0;34m(\u001b[0m\u001b[0mgroup_means\u001b[0m\u001b[0;34m,\u001b[0m \u001b[0mon\u001b[0m\u001b[0;34m=\u001b[0m\u001b[0;34m\"group\"\u001b[0m\u001b[0;34m)\u001b[0m\u001b[0;34m\u001b[0m\u001b[0;34m\u001b[0m\u001b[0m\n",
      "\u001b[0;32m/opt/anaconda/envs/Python3/lib/python3.8/site-packages/pandas/core/frame.py\u001b[0m in \u001b[0;36mgroupby\u001b[0;34m(self, by, axis, level, as_index, sort, group_keys, squeeze, observed, dropna)\u001b[0m\n\u001b[1;32m   6715\u001b[0m         \u001b[0maxis\u001b[0m \u001b[0;34m=\u001b[0m \u001b[0mself\u001b[0m\u001b[0;34m.\u001b[0m\u001b[0m_get_axis_number\u001b[0m\u001b[0;34m(\u001b[0m\u001b[0maxis\u001b[0m\u001b[0;34m)\u001b[0m\u001b[0;34m\u001b[0m\u001b[0;34m\u001b[0m\u001b[0m\n\u001b[1;32m   6716\u001b[0m \u001b[0;34m\u001b[0m\u001b[0m\n\u001b[0;32m-> 6717\u001b[0;31m         return DataFrameGroupBy(\n\u001b[0m\u001b[1;32m   6718\u001b[0m             \u001b[0mobj\u001b[0m\u001b[0;34m=\u001b[0m\u001b[0mself\u001b[0m\u001b[0;34m,\u001b[0m\u001b[0;34m\u001b[0m\u001b[0;34m\u001b[0m\u001b[0m\n\u001b[1;32m   6719\u001b[0m             \u001b[0mkeys\u001b[0m\u001b[0;34m=\u001b[0m\u001b[0mby\u001b[0m\u001b[0;34m,\u001b[0m\u001b[0;34m\u001b[0m\u001b[0;34m\u001b[0m\u001b[0m\n",
      "\u001b[0;32m/opt/anaconda/envs/Python3/lib/python3.8/site-packages/pandas/core/groupby/groupby.py\u001b[0m in \u001b[0;36m__init__\u001b[0;34m(self, obj, keys, axis, level, grouper, exclusions, selection, as_index, sort, group_keys, squeeze, observed, mutated, dropna)\u001b[0m\n\u001b[1;32m    558\u001b[0m             \u001b[0;32mfrom\u001b[0m \u001b[0mpandas\u001b[0m\u001b[0;34m.\u001b[0m\u001b[0mcore\u001b[0m\u001b[0;34m.\u001b[0m\u001b[0mgroupby\u001b[0m\u001b[0;34m.\u001b[0m\u001b[0mgrouper\u001b[0m \u001b[0;32mimport\u001b[0m \u001b[0mget_grouper\u001b[0m\u001b[0;34m\u001b[0m\u001b[0;34m\u001b[0m\u001b[0m\n\u001b[1;32m    559\u001b[0m \u001b[0;34m\u001b[0m\u001b[0m\n\u001b[0;32m--> 560\u001b[0;31m             grouper, exclusions, obj = get_grouper(\n\u001b[0m\u001b[1;32m    561\u001b[0m                 \u001b[0mobj\u001b[0m\u001b[0;34m,\u001b[0m\u001b[0;34m\u001b[0m\u001b[0;34m\u001b[0m\u001b[0m\n\u001b[1;32m    562\u001b[0m                 \u001b[0mkeys\u001b[0m\u001b[0;34m,\u001b[0m\u001b[0;34m\u001b[0m\u001b[0;34m\u001b[0m\u001b[0m\n",
      "\u001b[0;32m/opt/anaconda/envs/Python3/lib/python3.8/site-packages/pandas/core/groupby/grouper.py\u001b[0m in \u001b[0;36mget_grouper\u001b[0;34m(obj, key, axis, level, sort, observed, mutated, validate, dropna)\u001b[0m\n\u001b[1;32m    809\u001b[0m                 \u001b[0min_axis\u001b[0m\u001b[0;34m,\u001b[0m \u001b[0mname\u001b[0m\u001b[0;34m,\u001b[0m \u001b[0mlevel\u001b[0m\u001b[0;34m,\u001b[0m \u001b[0mgpr\u001b[0m \u001b[0;34m=\u001b[0m \u001b[0;32mFalse\u001b[0m\u001b[0;34m,\u001b[0m \u001b[0;32mNone\u001b[0m\u001b[0;34m,\u001b[0m \u001b[0mgpr\u001b[0m\u001b[0;34m,\u001b[0m \u001b[0;32mNone\u001b[0m\u001b[0;34m\u001b[0m\u001b[0;34m\u001b[0m\u001b[0m\n\u001b[1;32m    810\u001b[0m             \u001b[0;32melse\u001b[0m\u001b[0;34m:\u001b[0m\u001b[0;34m\u001b[0m\u001b[0;34m\u001b[0m\u001b[0m\n\u001b[0;32m--> 811\u001b[0;31m                 \u001b[0;32mraise\u001b[0m \u001b[0mKeyError\u001b[0m\u001b[0;34m(\u001b[0m\u001b[0mgpr\u001b[0m\u001b[0;34m)\u001b[0m\u001b[0;34m\u001b[0m\u001b[0;34m\u001b[0m\u001b[0m\n\u001b[0m\u001b[1;32m    812\u001b[0m         \u001b[0;32melif\u001b[0m \u001b[0misinstance\u001b[0m\u001b[0;34m(\u001b[0m\u001b[0mgpr\u001b[0m\u001b[0;34m,\u001b[0m \u001b[0mGrouper\u001b[0m\u001b[0;34m)\u001b[0m \u001b[0;32mand\u001b[0m \u001b[0mgpr\u001b[0m\u001b[0;34m.\u001b[0m\u001b[0mkey\u001b[0m \u001b[0;32mis\u001b[0m \u001b[0;32mnot\u001b[0m \u001b[0;32mNone\u001b[0m\u001b[0;34m:\u001b[0m\u001b[0;34m\u001b[0m\u001b[0;34m\u001b[0m\u001b[0m\n\u001b[1;32m    813\u001b[0m             \u001b[0;31m# Add key to exclusions\u001b[0m\u001b[0;34m\u001b[0m\u001b[0;34m\u001b[0m\u001b[0;34m\u001b[0m\u001b[0m\n",
      "\u001b[0;31mKeyError\u001b[0m: 'group'"
     ]
    },
    {
     "data": {
      "application/javascript": [
       "\n",
       "            setTimeout(function() {\n",
       "                var nbb_cell_id = 38;\n",
       "                var nbb_unformatted_code = \"# Test Means\\n\\nEXPECTED_MEANS = [3, 3, 3, 2, 2, 2]\\nEXPECTED_MEANS_2 = [4, 4, 4, 5, 5, 5]\\n\\nnp.testing.assert_array_equal(add_group_mean(df)[\\\"group_mean\\\"], EXPECTED_MEANS)\\nnp.testing.assert_array_equal(add_group_mean(df_2)[\\\"group_mean\\\"], EXPECTED_MEANS_2)\\n\\n# Test Medians\\nEXPECTED_MEDIANS = [4, 4, 4, 3, 3, 3]\\nEXPECTED_MEDIANS_2 = [3, 3, 3, 0, 0, 0]\\n\\nnp.testing.assert_array_equal(add_group_median(df)[\\\"group_median\\\"], EXPECTED_MEDIANS)\\nnp.testing.assert_array_equal(\\n    add_group_median(df_2)[\\\"group_median\\\"], EXPECTED_MEDIANS_2\\n)\\n\\n\\nnp.testing.assert_array_equal(\\n    preprocess(df)[\\\"value_normalised\\\"], EXPECTED_NORMALISED_VALUE\\n)\\nnp.testing.assert_array_equal(\\n    preprocess(df_2)[\\\"value_normalised\\\"], EXPECTED_NORMALISED_VALUE_2\\n)\";\n",
       "                var nbb_formatted_code = \"# Test Means\\n\\nEXPECTED_MEANS = [3, 3, 3, 2, 2, 2]\\nEXPECTED_MEANS_2 = [4, 4, 4, 5, 5, 5]\\n\\nnp.testing.assert_array_equal(add_group_mean(df)[\\\"group_mean\\\"], EXPECTED_MEANS)\\nnp.testing.assert_array_equal(add_group_mean(df_2)[\\\"group_mean\\\"], EXPECTED_MEANS_2)\\n\\n# Test Medians\\nEXPECTED_MEDIANS = [4, 4, 4, 3, 3, 3]\\nEXPECTED_MEDIANS_2 = [3, 3, 3, 0, 0, 0]\\n\\nnp.testing.assert_array_equal(add_group_median(df)[\\\"group_median\\\"], EXPECTED_MEDIANS)\\nnp.testing.assert_array_equal(\\n    add_group_median(df_2)[\\\"group_median\\\"], EXPECTED_MEDIANS_2\\n)\\n\\n\\nnp.testing.assert_array_equal(\\n    preprocess(df)[\\\"value_normalised\\\"], EXPECTED_NORMALISED_VALUE\\n)\\nnp.testing.assert_array_equal(\\n    preprocess(df_2)[\\\"value_normalised\\\"], EXPECTED_NORMALISED_VALUE_2\\n)\";\n",
       "                var nbb_cells = Jupyter.notebook.get_cells();\n",
       "                for (var i = 0; i < nbb_cells.length; ++i) {\n",
       "                    if (nbb_cells[i].input_prompt_number == nbb_cell_id) {\n",
       "                        if (nbb_cells[i].get_text() == nbb_unformatted_code) {\n",
       "                             nbb_cells[i].set_text(nbb_formatted_code);\n",
       "                        }\n",
       "                        break;\n",
       "                    }\n",
       "                }\n",
       "            }, 500);\n",
       "            "
      ],
      "text/plain": [
       "<IPython.core.display.Javascript object>"
      ]
     },
     "metadata": {},
     "output_type": "display_data"
    }
   ],
   "source": [
    "# Test Means\n",
    "\n",
    "EXPECTED_MEANS = [3, 3, 3, 2, 2, 2]\n",
    "EXPECTED_MEANS_2 = [4, 4, 4, 5, 5, 5]\n",
    "\n",
    "np.testing.assert_array_equal(add_group_mean(df)[\"group_mean\"], EXPECTED_MEANS)\n",
    "np.testing.assert_array_equal(add_group_mean(df_2)[\"group_mean\"], EXPECTED_MEANS_2)\n",
    "\n",
    "# Test Medians\n",
    "EXPECTED_MEDIANS = [4, 4, 4, 3, 3, 3]\n",
    "EXPECTED_MEDIANS_2 = [3, 3, 3, 0, 0, 0]\n",
    "\n",
    "np.testing.assert_array_equal(add_group_median(df)[\"group_median\"], EXPECTED_MEDIANS)\n",
    "np.testing.assert_array_equal(\n",
    "    add_group_median(df_2)[\"group_median\"], EXPECTED_MEDIANS_2\n",
    ")\n",
    "\n",
    "\n",
    "np.testing.assert_array_equal(\n",
    "    preprocess(df)[\"value_normalised\"], EXPECTED_NORMALISED_VALUE\n",
    ")\n",
    "np.testing.assert_array_equal(\n",
    "    preprocess(df_2)[\"value_normalised\"], EXPECTED_NORMALISED_VALUE_2\n",
    ")"
   ]
  },
  {
   "cell_type": "markdown",
   "metadata": {},
   "source": [
    "## Exercise\n",
    "\n",
    "We have time series data of the following form:"
   ]
  },
  {
   "cell_type": "code",
   "execution_count": 31,
   "metadata": {
    "ExecuteTime": {
     "end_time": "2021-10-19T14:10:56.487501Z",
     "start_time": "2021-10-19T14:10:56.465090Z"
    }
   },
   "outputs": [
    {
     "data": {
      "text/html": [
       "<div>\n",
       "<style scoped>\n",
       "    .dataframe tbody tr th:only-of-type {\n",
       "        vertical-align: middle;\n",
       "    }\n",
       "\n",
       "    .dataframe tbody tr th {\n",
       "        vertical-align: top;\n",
       "    }\n",
       "\n",
       "    .dataframe thead th {\n",
       "        text-align: right;\n",
       "    }\n",
       "</style>\n",
       "<table border=\"1\" class=\"dataframe\">\n",
       "  <thead>\n",
       "    <tr style=\"text-align: right;\">\n",
       "      <th></th>\n",
       "      <th>time</th>\n",
       "      <th>value</th>\n",
       "    </tr>\n",
       "  </thead>\n",
       "  <tbody>\n",
       "    <tr>\n",
       "      <th>0</th>\n",
       "      <td>1</td>\n",
       "      <td>0</td>\n",
       "    </tr>\n",
       "    <tr>\n",
       "      <th>1</th>\n",
       "      <td>2</td>\n",
       "      <td>3</td>\n",
       "    </tr>\n",
       "    <tr>\n",
       "      <th>2</th>\n",
       "      <td>3</td>\n",
       "      <td>1</td>\n",
       "    </tr>\n",
       "    <tr>\n",
       "      <th>3</th>\n",
       "      <td>4</td>\n",
       "      <td>4</td>\n",
       "    </tr>\n",
       "    <tr>\n",
       "      <th>4</th>\n",
       "      <td>5</td>\n",
       "      <td>6</td>\n",
       "    </tr>\n",
       "  </tbody>\n",
       "</table>\n",
       "</div>"
      ],
      "text/plain": [
       "   time  value\n",
       "0     1      0\n",
       "1     2      3\n",
       "2     3      1\n",
       "3     4      4\n",
       "4     5      6"
      ]
     },
     "execution_count": 31,
     "metadata": {},
     "output_type": "execute_result"
    },
    {
     "data": {
      "application/javascript": [
       "\n",
       "            setTimeout(function() {\n",
       "                var nbb_cell_id = 31;\n",
       "                var nbb_unformatted_code = \"df = pd.DataFrame({\\\"time\\\": [1, 2, 3, 4, 5], \\\"value\\\": [0, 3, 1, 4, 6]})\\ndf\";\n",
       "                var nbb_formatted_code = \"df = pd.DataFrame({\\\"time\\\": [1, 2, 3, 4, 5], \\\"value\\\": [0, 3, 1, 4, 6]})\\ndf\";\n",
       "                var nbb_cells = Jupyter.notebook.get_cells();\n",
       "                for (var i = 0; i < nbb_cells.length; ++i) {\n",
       "                    if (nbb_cells[i].input_prompt_number == nbb_cell_id) {\n",
       "                        if (nbb_cells[i].get_text() == nbb_unformatted_code) {\n",
       "                             nbb_cells[i].set_text(nbb_formatted_code);\n",
       "                        }\n",
       "                        break;\n",
       "                    }\n",
       "                }\n",
       "            }, 500);\n",
       "            "
      ],
      "text/plain": [
       "<IPython.core.display.Javascript object>"
      ]
     },
     "metadata": {},
     "output_type": "display_data"
    }
   ],
   "source": [
    "df = pd.DataFrame({\"time\": [1, 2, 3, 4, 5], \"value\": [0, 3, 1, 4, 6]})\n",
    "df"
   ]
  },
  {
   "cell_type": "markdown",
   "metadata": {
    "run_control": {
     "marked": true
    }
   },
   "source": [
    "We want a function `add_norm_last_value` which adds a `norm_last_value` column. This is computed by:\n",
    "\n",
    "* At time stamp t, take the value for t-1. At t=0 assume this is 0.\n",
    "* Divide the result by the sum of valuse seen until t (not inclusive). (If that sum is 0, just return 0)\n",
    "* Note: if some of the values are missing, assume they are 0 for the purpose of the cumulative sum normalisation. (Keep it as a Nan for the numerator)\n",
    "\n",
    "Given the example dataframe above, the expected result is:\n",
    "\n",
    "\n"
   ]
  },
  {
   "cell_type": "code",
   "execution_count": 33,
   "metadata": {
    "ExecuteTime": {
     "end_time": "2021-10-19T14:11:10.787494Z",
     "start_time": "2021-10-19T14:11:10.687934Z"
    }
   },
   "outputs": [
    {
     "data": {
      "text/html": [
       "<div>\n",
       "<style scoped>\n",
       "    .dataframe tbody tr th:only-of-type {\n",
       "        vertical-align: middle;\n",
       "    }\n",
       "\n",
       "    .dataframe tbody tr th {\n",
       "        vertical-align: top;\n",
       "    }\n",
       "\n",
       "    .dataframe thead th {\n",
       "        text-align: right;\n",
       "    }\n",
       "</style>\n",
       "<table border=\"1\" class=\"dataframe\">\n",
       "  <thead>\n",
       "    <tr style=\"text-align: right;\">\n",
       "      <th></th>\n",
       "      <th>time</th>\n",
       "      <th>value</th>\n",
       "      <th>norm_last_value</th>\n",
       "    </tr>\n",
       "  </thead>\n",
       "  <tbody>\n",
       "    <tr>\n",
       "      <th>0</th>\n",
       "      <td>1</td>\n",
       "      <td>0</td>\n",
       "      <td>0.00</td>\n",
       "    </tr>\n",
       "    <tr>\n",
       "      <th>1</th>\n",
       "      <td>2</td>\n",
       "      <td>3</td>\n",
       "      <td>0.00</td>\n",
       "    </tr>\n",
       "    <tr>\n",
       "      <th>2</th>\n",
       "      <td>3</td>\n",
       "      <td>1</td>\n",
       "      <td>1.00</td>\n",
       "    </tr>\n",
       "    <tr>\n",
       "      <th>3</th>\n",
       "      <td>4</td>\n",
       "      <td>4</td>\n",
       "      <td>0.25</td>\n",
       "    </tr>\n",
       "    <tr>\n",
       "      <th>4</th>\n",
       "      <td>5</td>\n",
       "      <td>6</td>\n",
       "      <td>0.50</td>\n",
       "    </tr>\n",
       "  </tbody>\n",
       "</table>\n",
       "</div>"
      ],
      "text/plain": [
       "   time  value  norm_last_value\n",
       "0     1      0             0.00\n",
       "1     2      3             0.00\n",
       "2     3      1             1.00\n",
       "3     4      4             0.25\n",
       "4     5      6             0.50"
      ]
     },
     "execution_count": 33,
     "metadata": {},
     "output_type": "execute_result"
    },
    {
     "data": {
      "application/javascript": [
       "\n",
       "            setTimeout(function() {\n",
       "                var nbb_cell_id = 33;\n",
       "                var nbb_unformatted_code = \"RES = pd.DataFrame(\\n    {\\n        \\\"time\\\": [1, 2, 3, 4, 5],\\n        \\\"value\\\": [0, 3, 1, 4, 6],\\n        \\\"norm_last_value\\\": [0, 0, 1, 0.25, 0.5],\\n    }\\n)\\nRES\";\n",
       "                var nbb_formatted_code = \"RES = pd.DataFrame(\\n    {\\n        \\\"time\\\": [1, 2, 3, 4, 5],\\n        \\\"value\\\": [0, 3, 1, 4, 6],\\n        \\\"norm_last_value\\\": [0, 0, 1, 0.25, 0.5],\\n    }\\n)\\nRES\";\n",
       "                var nbb_cells = Jupyter.notebook.get_cells();\n",
       "                for (var i = 0; i < nbb_cells.length; ++i) {\n",
       "                    if (nbb_cells[i].input_prompt_number == nbb_cell_id) {\n",
       "                        if (nbb_cells[i].get_text() == nbb_unformatted_code) {\n",
       "                             nbb_cells[i].set_text(nbb_formatted_code);\n",
       "                        }\n",
       "                        break;\n",
       "                    }\n",
       "                }\n",
       "            }, 500);\n",
       "            "
      ],
      "text/plain": [
       "<IPython.core.display.Javascript object>"
      ]
     },
     "metadata": {},
     "output_type": "display_data"
    }
   ],
   "source": [
    "RES = pd.DataFrame(\n",
    "    {\n",
    "        \"time\": [1, 2, 3, 4, 5],\n",
    "        \"value\": [0, 3, 1, 4, 6],\n",
    "        \"norm_last_value\": [0, 0, 1, 0.25, 0.5],\n",
    "    }\n",
    ")\n",
    "RES"
   ]
  },
  {
   "cell_type": "markdown",
   "metadata": {},
   "source": [
    "We define a testing function which takes in some test data, and the expected resulsts, and throws an error if they don't match."
   ]
  },
  {
   "cell_type": "code",
   "execution_count": 34,
   "metadata": {
    "ExecuteTime": {
     "end_time": "2021-10-19T14:11:13.910046Z",
     "start_time": "2021-10-19T14:11:13.902283Z"
    }
   },
   "outputs": [
    {
     "data": {
      "application/javascript": [
       "\n",
       "            setTimeout(function() {\n",
       "                var nbb_cell_id = 34;\n",
       "                var nbb_unformatted_code = \"def test_add_norm_last_value(df, expected_df):\\n    res = add_norm_last_value(df)\\n\\n    # The check_like argument allows the check to ignore ordering\\n    pd.testing.assert_frame_equal(res, expected_df, check_like=True)\";\n",
       "                var nbb_formatted_code = \"def test_add_norm_last_value(df, expected_df):\\n    res = add_norm_last_value(df)\\n\\n    # The check_like argument allows the check to ignore ordering\\n    pd.testing.assert_frame_equal(res, expected_df, check_like=True)\";\n",
       "                var nbb_cells = Jupyter.notebook.get_cells();\n",
       "                for (var i = 0; i < nbb_cells.length; ++i) {\n",
       "                    if (nbb_cells[i].input_prompt_number == nbb_cell_id) {\n",
       "                        if (nbb_cells[i].get_text() == nbb_unformatted_code) {\n",
       "                             nbb_cells[i].set_text(nbb_formatted_code);\n",
       "                        }\n",
       "                        break;\n",
       "                    }\n",
       "                }\n",
       "            }, 500);\n",
       "            "
      ],
      "text/plain": [
       "<IPython.core.display.Javascript object>"
      ]
     },
     "metadata": {},
     "output_type": "display_data"
    }
   ],
   "source": [
    "def test_add_norm_last_value(df, expected_df):\n",
    "    res = add_norm_last_value(df)\n",
    "\n",
    "    # The check_like argument allows the check to ignore ordering\n",
    "    pd.testing.assert_frame_equal(res, expected_df, check_like=True)"
   ]
  },
  {
   "cell_type": "markdown",
   "metadata": {},
   "source": [
    "### Questions\n",
    "\n",
    "**Part A**\n",
    "\n",
    "Write `add_norm_last_value`. Check that it runs with our example of `df` and `RES` defined above.\n",
    "\n",
    "**part B**\n",
    "\n",
    "Generate some data of your own and check that it also works.\n",
    "\n",
    "\n",
    "When you're done, some test data will be sent your way and your function will be put to the test!\n"
   ]
  },
  {
   "cell_type": "markdown",
   "metadata": {},
   "source": [
    "### Solution"
   ]
  }
 ],
 "metadata": {
  "kernelspec": {
   "display_name": "Python [conda env:Python3] *",
   "language": "python",
   "name": "conda-env-Python3-py"
  },
  "language_info": {
   "codemirror_mode": {
    "name": "ipython",
    "version": 3
   },
   "file_extension": ".py",
   "mimetype": "text/x-python",
   "name": "python",
   "nbconvert_exporter": "python",
   "pygments_lexer": "ipython3",
   "version": "3.8.2"
  },
  "toc": {
   "base_numbering": 1,
   "nav_menu": {},
   "number_sections": true,
   "sideBar": true,
   "skip_h1_title": false,
   "title_cell": "Table of Contents",
   "title_sidebar": "Contents",
   "toc_cell": false,
   "toc_position": {},
   "toc_section_display": true,
   "toc_window_display": false
  },
  "varInspector": {
   "cols": {
    "lenName": 16,
    "lenType": 16,
    "lenVar": 40
   },
   "kernels_config": {
    "python": {
     "delete_cmd_postfix": "",
     "delete_cmd_prefix": "del ",
     "library": "var_list.py",
     "varRefreshCmd": "print(var_dic_list())"
    },
    "r": {
     "delete_cmd_postfix": ") ",
     "delete_cmd_prefix": "rm(",
     "library": "var_list.r",
     "varRefreshCmd": "cat(var_dic_list()) "
    }
   },
   "types_to_exclude": [
    "module",
    "function",
    "builtin_function_or_method",
    "instance",
    "_Feature"
   ],
   "window_display": false
  }
 },
 "nbformat": 4,
 "nbformat_minor": 2
}
